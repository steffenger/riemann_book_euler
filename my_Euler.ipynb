{
 "cells": [
  {
   "cell_type": "markdown",
   "metadata": {},
   "source": [
    "# Seminar Mathematics of Shock Waves\n",
    "Steffen Gerhäusser SoSe 2023\n",
    "## Euler Equations\n",
    "\n",
    "Leonard euler hats erfunden "
   ]
  },
  {
   "cell_type": "markdown",
   "metadata": {},
   "source": [
    "# Comment on entropy"
   ]
  },
  {
   "cell_type": "code",
   "execution_count": 27,
   "metadata": {},
   "outputs": [],
   "source": [
    "%matplotlib inline"
   ]
  },
  {
   "cell_type": "code",
   "execution_count": 33,
   "metadata": {},
   "outputs": [
    {
     "name": "stdout",
     "output_type": "stream",
     "text": [
      "Import solvers\n"
     ]
    }
   ],
   "source": [
    "%config InlineBackend.figure_format = 'svg'\n",
    "from exact_solvers import euler\n",
    "from exact_solvers import euler_demos\n",
    "from ipywidgets import widgets\n",
    "from ipywidgets import interact\n",
    "State = euler.Primitive_State\n",
    "gamma = 1.4\n",
    "print(\"Import solvers\")"
   ]
  },
  {
   "cell_type": "code",
   "execution_count": 32,
   "metadata": {},
   "outputs": [
    {
     "data": {
      "application/vnd.jupyter.widget-view+json": {
       "model_id": "22bc13373d1748dfa62eb2baeaa9167e",
       "version_major": 2,
       "version_minor": 0
      },
      "text/plain": [
       "interactive(children=(Checkbox(value=True, description='plot_1'), Checkbox(value=False, description='plot_3'),…"
      ]
     },
     "metadata": {},
     "output_type": "display_data"
    }
   ],
   "source": [
    "interact(euler.plot_integral_curves,\n",
    "gamma=widgets.FloatSlider(min=1.1,max=3,value=1.4),\n",
    "rho_0=widgets.FloatSlider(min=0.1,max=3.,value=1., \n",
    "description=r'$\\rho_0$'));"
   ]
  },
  {
   "cell_type": "code",
   "execution_count": 30,
   "metadata": {},
   "outputs": [
    {
     "data": {
      "application/vnd.jupyter.widget-view+json": {
       "model_id": "bd184818f1084b69b78e0b745f51c3c0",
       "version_major": 2,
       "version_minor": 0
      },
      "text/plain": [
       "interactive(children=(FloatSlider(value=0.5, description='t', max=0.9), Dropdown(description='Show characteris…"
      ]
     },
     "metadata": {},
     "output_type": "display_data"
    }
   ],
   "source": [
    "left_state  = State(Density = 3.,\n",
    "                    Velocity = 0.,\n",
    "                    Pressure = 3.)\n",
    "right_state = State(Density = 1.,\n",
    "                    Velocity = 0.,\n",
    "                    Pressure = 1.)\n",
    "\n",
    "euler.riemann_solution(left_state,right_state)"
   ]
  }
 ],
 "metadata": {
  "kernelspec": {
   "display_name": "base",
   "language": "python",
   "name": "python3"
  },
  "language_info": {
   "codemirror_mode": {
    "name": "ipython",
    "version": 3
   },
   "file_extension": ".py",
   "mimetype": "text/x-python",
   "name": "python",
   "nbconvert_exporter": "python",
   "pygments_lexer": "ipython3",
   "version": "3.7.3"
  },
  "orig_nbformat": 4
 },
 "nbformat": 4,
 "nbformat_minor": 2
}
