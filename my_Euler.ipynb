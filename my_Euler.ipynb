{
 "cells": [
  {
   "cell_type": "markdown",
   "metadata": {},
   "source": [
    "# Seminar Mathematics of Shock Waves\n",
    "Steffen Gerhäusser SoSe 2023\n",
    "## Euler Equations\n",
    "- Leonhard Euler, born in 1707 in Basel, Switzerland, was one of the most prolific and influential mathematicians of his time.\n",
    "\n",
    "![Euler ](figures/Leonhard_Euler_2.jpg)\n",
    "\n",
    "- Equations first introduced by Leonhard Euler in 1755 in his work titled \"Principes généraux du mouvement des fluides\" (General Principles of Fluid Motion). \n",
    "\n",
    "- Euler's study focused on an idealized case of fluid flow, where the fluid was considered incompressible and without viscosity.\n",
    "\n",
    "\n",
    "\n",
    "\n",
    "\n",
    "- Today building block for Navier Stokes Equations\n",
    "\n",
    "\n",
    "# Continuum mechanics\n",
    "\n",
    "- text passage from the book: \n",
    "A fluid is made up of many tiny molecules. The density and velocity we are modeling are average values over some small region of space. The individual molecules\n",
    "in that region are not all moving with the exact velocity u; that’s just their average.\n",
    "\n",
    "- definition:\n",
    "Continuum mechanics describes gases using continuous functions of spatial position and time, such as density, velocity, and pressure\n",
    "\n",
    "![Euler ](figures/continuum.jpg)\n",
    "\n",
    "\n",
    "\n",
    "\n",
    "## Assumptions:\n",
    "- No empty spaces, infinitesimal division and validity threshold\n",
    "\n",
    "- Comment:\n",
    "continuum assumption may break down for small scales (e.g. molecules) or rarefied gases\n",
    "\n",
    "\n",
    "\n",
    "## Governing Equations\n",
    "\n",
    "\n",
    "### 1. Mass conservation:\n",
    "\n",
    "\n",
    "$$\\rho_t + (\\rho u)_x = 0.$$\n",
    "\n",
    "\n",
    "### 2. Momentum conservation:\n",
    "\n",
    "$$(\\rho u)_t + (\\rho u^2 + p)_x = 0.$$\n",
    "\n",
    "\n",
    "### 3. Energy conservation:\n",
    "\n",
    "Defintion of Energy:\n",
    "$$E = \\rho e + \\frac{1}{2}\\rho u^2.$$\n",
    "\n",
    "$$E_t + (u(E+p))_x = 0.$$\n",
    "\n",
    "\n",
    "- compare to first law of thermodynamics\n",
    "\n",
    "\n",
    "\n",
    "### 4. Equation of State (EOS)\n",
    "Assumption: polytropic ideal gas \n",
    "- Particles: An ideal gas is composed of a large number of tiny particles (atoms or molecules) that are in constant, random motion.\n",
    "- Forces: The particles of an ideal gas do not interact with each other except during collisions, which are considered to be perfectly elastic (no energy loss).\n",
    "- Intermolecular Forces: The ideal gas assumes that there are no attractive or repulsive forces between the gas particles.\n",
    "\n",
    "Four unknowns and three equations, therefore EOS is needed to close the system\n",
    "\n",
    "$$p = \\rho e (\\gamma-1).$$"
   ]
  },
  {
   "cell_type": "markdown",
   "metadata": {},
   "source": [
    "# Entropy\n",
    "\n",
    "- Entropy is used to govern the direction of a process (second law of thermodynamics).\n",
    " \n",
    "\n",
    "\n",
    "\n",
    "specific entropy:\n",
    "\n",
    "$$ s = c_v \\log(p/\\rho^\\gamma) + C,$$\n",
    "\n",
    "Book:\n",
    "- To be physically correct, the entropy of the gas must *increase* as gas molecules pass through the shock, leading to the *entropy condition* for selecting shock waves.\n",
    "- shock wave exhibits jump in entropy\n",
    "\n",
    "## Example"
   ]
  },
  {
   "cell_type": "code",
   "execution_count": 48,
   "metadata": {},
   "outputs": [
    {
     "data": {
      "application/vnd.jupyter.widget-view+json": {
       "model_id": "9c3a19fb45884a2a8d6c4d7d15292e04",
       "version_major": 2,
       "version_minor": 0
      },
      "text/plain": [
       "interactive(children=(FloatSlider(value=0.5, description='t', max=10.0), Output()), _dom_classes=('widget-inte…"
      ]
     },
     "metadata": {},
     "output_type": "display_data"
    }
   ],
   "source": [
    "def plot_with_stripes_t_slider(t):\n",
    "    euler_demos.plot_with_stripes(rho_l=3.,u_l=0.,p_l=3.,\n",
    "                                  rho_r=1.,u_r=0.,p_r=1.,\n",
    "                                  gamma=gamma,t=t)\n",
    "    \n",
    "interact(plot_with_stripes_t_slider, \n",
    "         t=widgets.FloatSlider(min=0.,max=10.,step=0.1,value=0.5));"
   ]
  },
  {
   "cell_type": "markdown",
   "metadata": {},
   "source": [
    "# Hyperbolic Structure \n",
    "\n",
    "$$q_t + f(q)_x = 0$$\n",
    "\n",
    "\n",
    "\n",
    "\n",
    "![Euler](figures/transformation.png)\n",
    "\n",
    "\n",
    "The eigenvalues of the flux Jacobian $f'(q)$ for the 1D Euler equations are:\n",
    "\n",
    "\\begin{align}\n",
    "\\lambda_1 & = u-c & \\lambda_2 & = u & \\lambda_3 & = u+c\n",
    "\\end{align}\n",
    "\n",
    "Here $c$ is the sound speed:\n",
    "\n",
    "$$ c = \\sqrt{\\frac{\\gamma p}{\\rho}}.$$\n",
    "\n",
    "## Eigenvectors\n",
    "- show the relation between jumps in the primitive variables across waves in each family.\n",
    "\n",
    "![Euler](figures/invariants.png)"
   ]
  },
  {
   "cell_type": "markdown",
   "metadata": {},
   "source": [
    "## Integral curves\n",
    "\n",
    "$$\\rho(p) = (p/p_0)^{1/\\gamma} \\rho_0.$$\n",
    "$$u(p) = u_0 \\pm \\frac{2c_0}{\\gamma-1}\\left(1-(p/p_0)^{(\\gamma-1)/(2\\gamma)}\\right).$$\n",
    "\n",
    "\n",
    "## Rankine–Hugoniot jump conditions\n",
    "\n",
    "$$\\rho(p) = \\left(\\frac{1 + \\beta p/p_0}{p/p_\\ell + \\beta} \\right).$$\n",
    "$$u(p) = u_0 \\pm \\frac{2c_0}{\\sqrt{2\\gamma(\\gamma-1)}} \\left(\\frac{1-p/p_0}{\\sqrt{1+\\beta p/p_0}}\\right).$$"
   ]
  },
  {
   "cell_type": "code",
   "execution_count": null,
   "metadata": {},
   "outputs": [],
   "source": [
    "%matplotlib inline"
   ]
  },
  {
   "cell_type": "code",
   "execution_count": null,
   "metadata": {},
   "outputs": [],
   "source": [
    "%config InlineBackend.figure_format = 'svg'\n",
    "from exact_solvers import euler\n",
    "from exact_solvers import euler_demos\n",
    "from ipywidgets import widgets\n",
    "from ipywidgets import interact\n",
    "State = euler.Primitive_State\n",
    "gamma = 1.4\n",
    "print(\"Import solvers\")"
   ]
  },
  {
   "cell_type": "code",
   "execution_count": null,
   "metadata": {},
   "outputs": [],
   "source": [
    "interact(euler.plot_integral_curves,\n",
    "gamma=widgets.FloatSlider(min=1.1,max=3,value=1.4),\n",
    "rho_0=widgets.FloatSlider(min=0.1,max=3.,value=1., \n",
    "description=r'$\\rho_0$'));"
   ]
  },
  {
   "cell_type": "markdown",
   "metadata": {},
   "source": [
    "- entropy violating shock is not physical"
   ]
  },
  {
   "cell_type": "markdown",
   "metadata": {},
   "source": [
    "# Exact solution of the riemann problem\n",
    "\n",
    "\n",
    "1. Define a piecewise function giving the middle state velocity $u_m$ that can be connected to the left state by an entropy-satisfying shock or rarefaction, as a function of the middle-state pressure $p_m$.\n",
    "2. Define a piecewise function giving the middle state velocity $u_m$ that can be connected to the right state by an entropy-satisfying shock or rarefaction, as a function of the middle-state pressure $p_m$.\n",
    "3. Use a nonlinear rootfinder to find the intersection of the two functions defined above.\n",
    "4. Use the Riemann invariants to find the intermediate state densities and the solution structure inside any rarefaction waves."
   ]
  },
  {
   "cell_type": "markdown",
   "metadata": {},
   "source": [
    "# Examples of Riemann solutions\n",
    "\n",
    "## Shock tube problem:\n",
    "- high pressure and density on the left, low pressure and density on the right"
   ]
  },
  {
   "cell_type": "code",
   "execution_count": null,
   "metadata": {},
   "outputs": [],
   "source": [
    "left_state  = State(Density = 3.,\n",
    "                    Velocity = 0.,\n",
    "                    Pressure = 3.)\n",
    "right_state = State(Density = 1.,\n",
    "                    Velocity = 0.,\n",
    "                    Pressure = 1.)\n",
    "\n",
    "euler.riemann_solution(left_state,right_state)"
   ]
  },
  {
   "cell_type": "code",
   "execution_count": null,
   "metadata": {},
   "outputs": [],
   "source": [
    "euler.phase_plane_plot(left_state, right_state)"
   ]
  },
  {
   "cell_type": "markdown",
   "metadata": {},
   "source": [
    "## Symmetric Expansion\n",
    "\n",
    "- equal density, pressure and velocity but opposite direction"
   ]
  },
  {
   "cell_type": "code",
   "execution_count": null,
   "metadata": {},
   "outputs": [],
   "source": [
    "left_state  = State(Density = 1.,\n",
    "                    Velocity = -3.,\n",
    "                    Pressure = 1.)\n",
    "right_state = State(Density = 1.,\n",
    "                    Velocity = 3.,\n",
    "                    Pressure = 1.)\n",
    "\n",
    "euler.riemann_solution(left_state,right_state);"
   ]
  },
  {
   "cell_type": "code",
   "execution_count": null,
   "metadata": {},
   "outputs": [],
   "source": [
    "euler.phase_plane_plot(left_state, right_state)"
   ]
  },
  {
   "cell_type": "markdown",
   "metadata": {},
   "source": [
    "## Colliding flows"
   ]
  },
  {
   "cell_type": "code",
   "execution_count": null,
   "metadata": {},
   "outputs": [],
   "source": [
    "left_state  = State(Density = 1.,\n",
    "                    Velocity = 3.,\n",
    "                    Pressure = 1.)\n",
    "right_state = State(Density = 1.,\n",
    "                    Velocity = -3.,\n",
    "                    Pressure = 1.)\n",
    "\n",
    "euler.riemann_solution(left_state,right_state)"
   ]
  },
  {
   "cell_type": "code",
   "execution_count": null,
   "metadata": {},
   "outputs": [],
   "source": [
    "euler.phase_plane_plot(left_state, right_state)"
   ]
  },
  {
   "cell_type": "markdown",
   "metadata": {},
   "source": [
    "# Colored tracer"
   ]
  },
  {
   "cell_type": "code",
   "execution_count": null,
   "metadata": {},
   "outputs": [],
   "source": [
    "def plot_with_stripes_t_slider(t):\n",
    "    euler_demos.plot_with_stripes(rho_l=3.,u_l=0.,p_l=3.,\n",
    "                                  rho_r=1.,u_r=0.,p_r=1.,\n",
    "                                  gamma=gamma,t=t)\n",
    "    \n",
    "interact(plot_with_stripes_t_slider, \n",
    "         t=widgets.FloatSlider(min=0.,max=1.,step=0.1,value=0.5));"
   ]
  },
  {
   "cell_type": "markdown",
   "metadata": {},
   "source": [
    "# Riemann problem with vacuum state\n",
    "\n",
    "- similiar to dry state in shallow water equations\n",
    "\n",
    "\n",
    "## Initial vacuum state\n",
    "\n",
    "- density and pressure set to zero in the left state"
   ]
  },
  {
   "cell_type": "code",
   "execution_count": null,
   "metadata": {},
   "outputs": [],
   "source": [
    "left_state  = State(Density =0.,\n",
    "                    Velocity = 0.,\n",
    "                    Pressure = 0.)\n",
    "right_state = State(Density = 1.,\n",
    "                    Velocity = -3.,\n",
    "                    Pressure = 1.)\n",
    "\n",
    "euler.riemann_solution(left_state,right_state)"
   ]
  },
  {
   "cell_type": "code",
   "execution_count": null,
   "metadata": {},
   "outputs": [],
   "source": [
    "euler.phase_plane_plot(left_state, right_state)"
   ]
  },
  {
   "cell_type": "markdown",
   "metadata": {},
   "source": [
    "# Middle vacuum state\n",
    "\n",
    "-basically the opposite of colliding flows"
   ]
  },
  {
   "cell_type": "code",
   "execution_count": null,
   "metadata": {},
   "outputs": [],
   "source": [
    "left_state  = State(Density =1.,\n",
    "                    Velocity = -10.,\n",
    "                    Pressure = 1.)\n",
    "right_state = State(Density = 1.,\n",
    "                    Velocity = 10.,\n",
    "                    Pressure = 1.)\n",
    "\n",
    "euler.riemann_solution(left_state,right_state)"
   ]
  },
  {
   "cell_type": "code",
   "execution_count": null,
   "metadata": {},
   "outputs": [],
   "source": [
    "euler.phase_plane_plot(left_state, right_state)"
   ]
  },
  {
   "cell_type": "markdown",
   "metadata": {},
   "source": [
    "# Additional References\n",
    "\n",
    "- Euler, Leonhard (1757). \"Principes généraux du mouvement des fluides\" [The General Principles of the Movement of Fluids]. Mémoires de l'académie des sciences de Berlin (in French). 11: 274–315.\n",
    "\n",
    "\n",
    "## Images\n",
    "- https://de.wikipedia.org/wiki/Leonhard_Euler#/media/Datei:Leonhard_Euler_2.jpg\n",
    "- https://i.ytimg.com/vi/f-5bEbp2qYM/maxresdefault.jpg\n"
   ]
  }
 ],
 "metadata": {
  "kernelspec": {
   "display_name": "base",
   "language": "python",
   "name": "python3"
  },
  "language_info": {
   "codemirror_mode": {
    "name": "ipython",
    "version": 3
   },
   "file_extension": ".py",
   "mimetype": "text/x-python",
   "name": "python",
   "nbconvert_exporter": "python",
   "pygments_lexer": "ipython3",
   "version": "3.7.3"
  },
  "orig_nbformat": 4
 },
 "nbformat": 4,
 "nbformat_minor": 2
}
