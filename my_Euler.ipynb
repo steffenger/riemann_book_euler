{
 "cells": [
  {
   "cell_type": "markdown",
   "metadata": {},
   "source": [
    "# Seminar Mathematics of Shock Waves\n",
    "Steffen Gerhäusser SoSe 2023\n",
    "# 9. The Euler equations of gas dynamics \n",
    "\n",
    "## Outline\n",
    "- 1. Fluid dynamics\n",
    "- 2. Hyperbolic Structure\n",
    "- 3. Integral curves and Rankine–Hugoniot jump conditions\n",
    "- 4. Exact solution of the Riemann problem\n",
    "- 5. Riemann problems with vacuum\n",
    "\n",
    "## Fluid dynamics\n",
    "\n",
    "- Leonhard Euler, born in 1707 in Basel, Switzerland, was one of the most prolific and influential mathematicians of his time.\n",
    "\n",
    "- Equations first introduced by Leonhard Euler in 1755 in his work titled \"Principes généraux du mouvement des fluides\" (General Principles of Fluid Motion). \n",
    "\n",
    "- Euler's study focused on an idealized case of fluid flow, where the fluid was considered incompressible and without viscosity.\n",
    "\n",
    "\n",
    "\n",
    "\n",
    "\n",
    "- Today building block for Navier Stokes Equations\n",
    "\n",
    "\n",
    "# Continuum mechanics\n",
    "\n",
    "- text passage from the book: \n",
    "A fluid is made up of many tiny molecules. The density and velocity we are modeling are average values over some small region of space. The individual molecules\n",
    "in that region are not all moving with the exact velocity u; that’s just their average. Each molecule also has some additional random velocity component. These random velocities are what accounts for the pressure of the fluid p.\n",
    "\n",
    "- definition:\n",
    "Continuum mechanics describes gases using continuous functions of spatial position and time, such as density, velocity, and pressure\n",
    "\n",
    "<center>\n",
    "<div>\n",
    "<img src=\"figures/continuum.jpg\" width=\"800\">\n",
    "</div>\n",
    "</center>\n",
    "\n",
    "\n",
    "## Assumptions:\n",
    "- No empty spaces, infinitesimal division and validity threshold\n",
    "\n",
    "- Comment:\n",
    "continuum assumption may break down for small scales (e.g. molecules) or rarefied gases\n",
    "\n",
    "\n",
    "\n",
    "## Governing Equations\n",
    "\n",
    "\n",
    "### 1. Mass conservation:\n",
    "\n",
    "\n",
    "$$\\rho_t + (\\rho u)_x = 0.$$\n",
    "\n",
    "with:\n",
    "- $\\rho (x, t)$ to denote the fluid density\n",
    "- $u (x, t)$ to denote the velocity\n",
    "\n",
    "### 2. Momentum conservation:\n",
    "\n",
    "$$(\\rho u)_t + (\\rho u^2 + p)_x = 0.$$\n",
    "\n",
    "with:\n",
    "- the momentum density is given by the product of mass density and velocity $\\rho u$\n",
    "- momentum flux consists of two parts: momentum density times velocity and pressure\n",
    "### 3. Energy conservation:\n",
    "\n",
    "Defintion of Energy:\n",
    "$$E = \\rho e + \\frac{1}{2}\\rho u^2.$$\n",
    "\n",
    "- consists of internal energy $\\rho e$ and kinetic part $\\frac{1}{2}\\rho u^2$\n",
    "- compare to first law of thermodynamics\n",
    "\n",
    "Energy flux:\n",
    "\n",
    "$$E_t + (u(E+p))_x = 0.$$\n",
    "\n",
    "- involves bulk transport $uE$ and transport due to pressure $pu$ \n",
    "\n",
    "\n",
    "\n",
    "### 4. Equation of State (EOS)\n",
    "Assumption: polytropic ideal gas \n",
    "- Particles: An ideal gas is composed of a large number of tiny particles (atoms or molecules) that are in constant, random motion.\n",
    "- Forces: The particles of an ideal gas do not interact with each other except during collisions, which are considered to be perfectly elastic (no energy loss).\n",
    "- Intermolecular Forces: The ideal gas assumes that there are no attractive or repulsive forces between the gas particles.\n",
    "\n",
    "Four unknowns (density, momentum, energy and pressure) but only three equations, therefore EOS is needed to close the system\n",
    "\n",
    "$$p = \\rho e (\\gamma-1).$$\n",
    "\n",
    "- γ is the ratio of specific heats, which for air is approximately 1.4."
   ]
  },
  {
   "cell_type": "markdown",
   "metadata": {},
   "source": [
    "# Entropy (physical)\n",
    "\n",
    "- Entropy is used to govern the direction of a process (Balance of entropy, second law of thermodynamics).\n",
    "- reversible process: the entropy production is zero\n",
    "- entropy production represents non-utilized work potential („lost work“) = dissipated work\n",
    "\n",
    "\n",
    "specific entropy:\n",
    "\n",
    "$$ s = c_v \\log(p/\\rho^\\gamma) + C,$$\n",
    "\n",
    "Book:\n",
    "- To be physically correct, the entropy of the gas must *increase* as gas molecules pass through the shock, leading to the *entropy condition* for selecting shock waves.\n",
    "- shock wave exhibits jump in entropy\n",
    "\n",
    "Note:\n",
    "- of course we dont consider the  contribution of the viscosity\n",
    "\n",
    "## Example"
   ]
  },
  {
   "cell_type": "code",
   "execution_count": 109,
   "metadata": {},
   "outputs": [
    {
     "data": {
      "application/vnd.jupyter.widget-view+json": {
       "model_id": "154946b161774bbd8bab912c1b9fa4d6",
       "version_major": 2,
       "version_minor": 0
      },
      "text/plain": [
       "interactive(children=(FloatSlider(value=0.5, description='t', max=10.0), Output()), _dom_classes=('widget-inte…"
      ]
     },
     "metadata": {},
     "output_type": "display_data"
    }
   ],
   "source": [
    "def plot_with_stripes_t_slider(t):\n",
    "    euler_demos.plot_with_stripes(rho_l=3.,u_l=0.,p_l=3., rho_r=1.,u_r=0.,p_r=1., gamma=gamma,t=t)\n",
    "    \n",
    "interact(plot_with_stripes_t_slider, t=widgets.FloatSlider(min=0.,max=10.,step=0.1,value=0.5));"
   ]
  },
  {
   "cell_type": "markdown",
   "metadata": {},
   "source": [
    "# Hyperbolic Structure \n",
    "\n",
    "$$q_t + f(q)_x = 0$$\n",
    "\n",
    "\n",
    "\n",
    "\n",
    "![Euler](figures/transformation.png)\n",
    "\n",
    "\n",
    "The eigenvalues of the flux Jacobian $f'(q)$ for the 1D Euler equations are:\n",
    "\n",
    "\\begin{align}\n",
    "\\lambda_1 & = u-c & \\lambda_2 & = u & \\lambda_3 & = u+c\n",
    "\\end{align}\n",
    "\n",
    "Here $c$ is the sound speed:\n",
    "\n",
    "$$ c = \\sqrt{\\frac{\\gamma p}{\\rho}}.$$\n",
    "\n",
    "- Eigenvalues denote the wave speed, distinction between acoustic and entropy waves\n",
    "\n",
    "## Eigenvectors\n",
    "- show the relation between jumps in the primitive variables across waves in each family.\n",
    "- Example: eigenvector $r_1$ indicates how the density $\\rho$ changes as it moves along the characteristics curve with a speed of $\\lambda_1$\n",
    "\n",
    "![Euler](figures/invariants.png)\n",
    "\n",
    "- Note along the 2. characteristic u and p are constant -> change in density (entropy wave)\n",
    "- The level sets of these Riemann invariants are two-dimensional surfaces; the intersection of two appropriate level sets defines an integral curve."
   ]
  },
  {
   "cell_type": "markdown",
   "metadata": {},
   "source": [
    "## Integral curves\n",
    "\n",
    "- Derivation with Invariants:\n",
    "  $$s = s_0$$\n",
    "  $$c_v log\\left( \\frac{p}{\\rho^{\\gamma}} \\right) = c_v log\\left( \\frac{p_0}{\\rho_0^{\\gamma}} \\right)$$ \n",
    "  $$\\left( \\frac{p}{\\rho^{\\gamma}} \\right) = \\left( \\frac{p_0}{\\rho_0^{\\gamma}} \\right)$$\n",
    "\n",
    "-> $$\\rho(p) = (p/p_0)^{1/\\gamma} \\rho_0.$$\n",
    "\n",
    "- Derivation with Invariants:\n",
    "  $$u + \\frac{2c}{\\gamma - 1} = u_0 + \\frac{2c_0}{\\gamma -1}$$\n",
    "\n",
    "Using expression from above\n",
    "\n",
    "$$u(p) = u_0 \\pm \\frac{2c_0}{\\gamma-1}\\left(1-(p/p_0)^{(\\gamma-1)/(2\\gamma)}\\right).$$\n",
    "\n",
    "- Note: the 2-integral curves, of course, are simply lines of constant pressure and velocity (with varying density)\n",
    "\n",
    "## Rankine–Hugoniot jump conditions\n",
    "\n",
    "$$\\rho(p) = \\left(\\frac{1 + \\beta p/p_0}{p/p_\\ell + \\beta} \\right).$$\n",
    "$$u(p) = u_0 \\pm \\frac{2c_0}{\\sqrt{2\\gamma(\\gamma-1)}} \\left(\\frac{1-p/p_0}{\\sqrt{1+\\beta p/p_0}}\\right).$$\n",
    "\n",
    "- Interpretation: soving balance equations at the shock interface\n",
    "- more physical than simple harmonic mean "
   ]
  },
  {
   "cell_type": "code",
   "execution_count": null,
   "metadata": {},
   "outputs": [],
   "source": [
    "%matplotlib inline"
   ]
  },
  {
   "cell_type": "code",
   "execution_count": null,
   "metadata": {},
   "outputs": [],
   "source": [
    "%config InlineBackend.figure_format = 'svg'\n",
    "from exact_solvers import euler\n",
    "from exact_solvers import euler_demos\n",
    "from ipywidgets import widgets\n",
    "from ipywidgets import interact\n",
    "State = euler.Primitive_State\n",
    "gamma = 1.4\n",
    "print(\"Import solvers\")"
   ]
  },
  {
   "cell_type": "code",
   "execution_count": null,
   "metadata": {},
   "outputs": [],
   "source": [
    "interact(euler.plot_integral_curves,\n",
    "gamma=widgets.FloatSlider(min=1.1,max=3,value=1.4),\n",
    "rho_0=widgets.FloatSlider(min=0.1,max=3.,value=1., \n",
    "description=r'$\\rho_0$'));"
   ]
  },
  {
   "cell_type": "markdown",
   "metadata": {},
   "source": [
    "- entropy violating shock is not physical"
   ]
  },
  {
   "cell_type": "markdown",
   "metadata": {},
   "source": [
    "# Exact solution of the riemann problem\n",
    "\n",
    "\n",
    "1. Define a piecewise function giving the middle state velocity $u_m$ that can be connected to the left state by an entropy-satisfying shock or rarefaction, as a function of the middle-state pressure $p_m$.\n",
    "2. Define a piecewise function giving the middle state velocity $u_m$ that can be connected to the right state by an entropy-satisfying shock or rarefaction, as a function of the middle-state pressure $p_m$.\n",
    "3. Use a nonlinear rootfinder to find the intersection of the two functions defined above.\n",
    "4. Use the Riemann invariants to find the intermediate state densities and the solution structure inside any rarefaction waves."
   ]
  },
  {
   "cell_type": "markdown",
   "metadata": {},
   "source": [
    "# Examples of Riemann solutions\n",
    "\n",
    "## Shock tube problem:\n",
    "- high pressure and density on the left, low pressure and density on the right"
   ]
  },
  {
   "cell_type": "code",
   "execution_count": null,
   "metadata": {},
   "outputs": [],
   "source": [
    "left_state  = State(Density = 3.,\n",
    "                    Velocity = 0.,\n",
    "                    Pressure = 3.)\n",
    "right_state = State(Density = 1.,\n",
    "                    Velocity = 0.,\n",
    "                    Pressure = 1.)\n",
    "\n",
    "euler.riemann_solution(left_state,right_state)"
   ]
  },
  {
   "cell_type": "code",
   "execution_count": null,
   "metadata": {},
   "outputs": [],
   "source": [
    "euler.phase_plane_plot(left_state, right_state)"
   ]
  },
  {
   "cell_type": "markdown",
   "metadata": {},
   "source": [
    "## Symmetric Expansion\n",
    "\n",
    "- equal density, pressure and velocity but opposite direction"
   ]
  },
  {
   "cell_type": "code",
   "execution_count": null,
   "metadata": {},
   "outputs": [],
   "source": [
    "left_state  = State(Density = 1.,\n",
    "                    Velocity = -3.,\n",
    "                    Pressure = 1.)\n",
    "right_state = State(Density = 1.,\n",
    "                    Velocity = 3.,\n",
    "                    Pressure = 1.)\n",
    "\n",
    "euler.riemann_solution(left_state,right_state);"
   ]
  },
  {
   "cell_type": "code",
   "execution_count": null,
   "metadata": {},
   "outputs": [],
   "source": [
    "euler.phase_plane_plot(left_state, right_state)"
   ]
  },
  {
   "cell_type": "markdown",
   "metadata": {},
   "source": [
    "## Colliding flows"
   ]
  },
  {
   "cell_type": "code",
   "execution_count": null,
   "metadata": {},
   "outputs": [],
   "source": [
    "left_state  = State(Density = 1.,\n",
    "                    Velocity = 3.,\n",
    "                    Pressure = 1.)\n",
    "right_state = State(Density = 1.,\n",
    "                    Velocity = -3.,\n",
    "                    Pressure = 1.)\n",
    "\n",
    "euler.riemann_solution(left_state,right_state)"
   ]
  },
  {
   "cell_type": "code",
   "execution_count": null,
   "metadata": {},
   "outputs": [],
   "source": [
    "euler.phase_plane_plot(left_state, right_state)"
   ]
  },
  {
   "cell_type": "markdown",
   "metadata": {},
   "source": [
    "# Colored tracer"
   ]
  },
  {
   "cell_type": "code",
   "execution_count": null,
   "metadata": {},
   "outputs": [],
   "source": [
    "def plot_with_stripes_t_slider(t):\n",
    "    euler_demos.plot_with_stripes(rho_l=3.,u_l=0.,p_l=3.,\n",
    "                                  rho_r=1.,u_r=0.,p_r=1.,\n",
    "                                  gamma=gamma,t=t)\n",
    "    \n",
    "interact(plot_with_stripes_t_slider, \n",
    "         t=widgets.FloatSlider(min=0.,max=1.,step=0.1,value=0.5));"
   ]
  },
  {
   "cell_type": "markdown",
   "metadata": {},
   "source": [
    "# Riemann problem with vacuum state\n",
    "\n",
    "- similiar to dry state in shallow water equations\n",
    "\n",
    "\n",
    "## Initial vacuum state\n",
    "\n",
    "- density and pressure set to zero in the left state"
   ]
  },
  {
   "cell_type": "code",
   "execution_count": null,
   "metadata": {},
   "outputs": [],
   "source": [
    "left_state  = State(Density =0.,\n",
    "                    Velocity = 0.,\n",
    "                    Pressure = 0.)\n",
    "right_state = State(Density = 1.,\n",
    "                    Velocity = -3.,\n",
    "                    Pressure = 1.)\n",
    "\n",
    "euler.riemann_solution(left_state,right_state)"
   ]
  },
  {
   "cell_type": "code",
   "execution_count": null,
   "metadata": {},
   "outputs": [],
   "source": [
    "euler.phase_plane_plot(left_state, right_state)"
   ]
  },
  {
   "cell_type": "markdown",
   "metadata": {},
   "source": [
    "# Middle vacuum state\n",
    "\n",
    "-basically the opposite of colliding flows"
   ]
  },
  {
   "cell_type": "code",
   "execution_count": null,
   "metadata": {},
   "outputs": [],
   "source": [
    "left_state  = State(Density =1.,\n",
    "                    Velocity = -10.,\n",
    "                    Pressure = 1.)\n",
    "right_state = State(Density = 1.,\n",
    "                    Velocity = 10.,\n",
    "                    Pressure = 1.)\n",
    "\n",
    "euler.riemann_solution(left_state,right_state)"
   ]
  },
  {
   "cell_type": "code",
   "execution_count": null,
   "metadata": {},
   "outputs": [],
   "source": [
    "euler.phase_plane_plot(left_state, right_state)"
   ]
  },
  {
   "cell_type": "markdown",
   "metadata": {},
   "source": [
    "# Additional References\n",
    "\n",
    "- Euler, Leonhard (1757). \"Principes généraux du mouvement des fluides\" [The General Principles of the Movement of Fluids]. Mémoires de l'académie des sciences de Berlin (in French). 11: 274–315.\n",
    "\n",
    "\n",
    "## Images\n",
    "- https://de.wikipedia.org/wiki/Leonhard_Euler#/media/Datei:Leonhard_Euler_2.jpg\n",
    "- https://i.ytimg.com/vi/f-5bEbp2qYM/maxresdefault.jpg\n"
   ]
  }
 ],
 "metadata": {
  "kernelspec": {
   "display_name": "base",
   "language": "python",
   "name": "python3"
  },
  "language_info": {
   "codemirror_mode": {
    "name": "ipython",
    "version": 3
   },
   "file_extension": ".py",
   "mimetype": "text/x-python",
   "name": "python",
   "nbconvert_exporter": "python",
   "pygments_lexer": "ipython3",
   "version": "3.7.3"
  },
  "orig_nbformat": 4
 },
 "nbformat": 4,
 "nbformat_minor": 2
}
