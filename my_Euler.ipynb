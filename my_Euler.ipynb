{
 "cells": [
  {
   "cell_type": "markdown",
   "metadata": {},
   "source": [
    "# Seminar Mathematics of Shock Waves\n",
    "Steffen Gerhäusser SoSe 2023\n",
    "## Euler Equations\n",
    "- Leonhard Euler, born in 1707 in Basel, Switzerland, was one of the most prolific and influential mathematicians of his time.\n",
    "\n",
    "![Euler ](figures/Leonhard_Euler_2.jpg)\n",
    "\n",
    "- Equations first introduced by Leonhard Euler in 1755 in his work titled \"Principes généraux du mouvement des fluides\" (General Principles of Fluid Motion). \n",
    "\n",
    "- Euler's study focused on an idealized case of fluid flow, where the fluid was considered incompressible and without viscosity.\n",
    "\n",
    "\n",
    "\n",
    "\n",
    "\n",
    "- Today building block for Navier Stokes Equations\n",
    "\n",
    "\n",
    "# Continuum mechanics\n",
    "\n",
    "- text passage from the book: \n",
    "A fluid is made up of many tiny molecules. The density and velocity we are modeling are average values over some small region of space. The individual molecules\n",
    "in that region are not all moving with the exact velocity u; that’s just their average.\n",
    "\n",
    "- definition\n",
    "## Governing Equations\n",
    "\n",
    "\n",
    "### 1. Mass conservation:\n",
    "\n",
    "\n",
    "$$\\rho_t + (\\rho u)_x = 0.$$\n",
    "\n",
    "\n",
    "### 2. Momentum conservation:\n",
    "\n",
    "$$(\\rho u)_t + (\\rho u^2 + p)_x = 0.$$\n",
    "\n",
    "\n",
    "### 3. Energy conservation:\n",
    "\n",
    "Defintion of Energy:\n",
    "$$E = \\rho e + \\frac{1}{2}\\rho u^2.$$\n",
    "\n",
    "$$E_t + (u(E+p))_x = 0.$$\n",
    "\n",
    "\n",
    "- compare to first law of thermodynamics\n",
    "\n",
    "\n",
    "\n",
    "### 4. Equation of State (EOS)\n",
    "\n",
    "\n",
    "$$p = \\rho e (\\gamma-1).$$"
   ]
  },
  {
   "cell_type": "markdown",
   "metadata": {},
   "source": [
    "# Comment on entropy\n",
    "\n",
    "specific entropy:\n",
    "\n",
    "$$ s = c_v \\log(p/\\rho^\\gamma) + C,$$"
   ]
  },
  {
   "cell_type": "markdown",
   "metadata": {},
   "source": [
    "# Hyperbolic Structure \n",
    "\n",
    "$$q_t + f(q)_x = 0$$\n",
    "\n",
    "\n",
    "\\begin{align}\n",
    "q & = \\begin{pmatrix} \\rho \\\\ \\rho u \\\\ E\\end{pmatrix}, & \n",
    "f(q) & = \\begin{pmatrix} \\rho u \\\\ \\rho u^2 + p \\\\ u(E+p)\\end{pmatrix}.\n",
    "\\label{euler_conserved}\n",
    "\\end{align}  \n",
    "\n",
    "\n",
    "The eigenvalues of the flux Jacobian $f'(q)$ for the 1D Euler equations are:\n",
    "\n",
    "\\begin{align}\n",
    "\\lambda_1 & = u-c & \\lambda_2 & = u & \\lambda_3 & = u+c\n",
    "\\end{align}\n",
    "\n",
    "Here $c$ is the sound speed:\n",
    "\n",
    "$$ c = \\sqrt{\\frac{\\gamma p}{\\rho}}.$$\n",
    "\n"
   ]
  },
  {
   "cell_type": "code",
   "execution_count": null,
   "metadata": {},
   "outputs": [],
   "source": [
    "%matplotlib inline"
   ]
  },
  {
   "cell_type": "code",
   "execution_count": null,
   "metadata": {},
   "outputs": [],
   "source": [
    "%config InlineBackend.figure_format = 'svg'\n",
    "from exact_solvers import euler\n",
    "from exact_solvers import euler_demos\n",
    "from ipywidgets import widgets\n",
    "from ipywidgets import interact\n",
    "State = euler.Primitive_State\n",
    "gamma = 1.4\n",
    "print(\"Import solvers\")"
   ]
  },
  {
   "cell_type": "code",
   "execution_count": null,
   "metadata": {},
   "outputs": [],
   "source": [
    "interact(euler.plot_integral_curves,\n",
    "gamma=widgets.FloatSlider(min=1.1,max=3,value=1.4),\n",
    "rho_0=widgets.FloatSlider(min=0.1,max=3.,value=1., \n",
    "description=r'$\\rho_0$'));"
   ]
  },
  {
   "cell_type": "markdown",
   "metadata": {},
   "source": [
    "# Exact solution of the riemann problem\n",
    "\n",
    "\n",
    "1. Define a piecewise function giving the middle state velocity $u_m$ that can be connected to the left state by an entropy-satisfying shock or rarefaction, as a function of the middle-state pressure $p_m$.\n",
    "2. Define a piecewise function giving the middle state velocity $u_m$ that can be connected to the right state by an entropy-satisfying shock or rarefaction, as a function of the middle-state pressure $p_m$.\n",
    "3. Use a nonlinear rootfinder to find the intersection of the two functions defined above.\n",
    "4. Use the Riemann invariants to find the intermediate state densities and the solution structure inside any rarefaction waves."
   ]
  },
  {
   "cell_type": "markdown",
   "metadata": {},
   "source": [
    "# Examples of Riemann solutions\n",
    "\n",
    "## Shock tube problem:"
   ]
  },
  {
   "cell_type": "code",
   "execution_count": null,
   "metadata": {},
   "outputs": [],
   "source": [
    "left_state  = State(Density = 3.,\n",
    "                    Velocity = 0.,\n",
    "                    Pressure = 3.)\n",
    "right_state = State(Density = 3.,\n",
    "                    Velocity = 0.4,\n",
    "                    Pressure = 3.)\n",
    "\n",
    "euler.riemann_solution(left_state,right_state)"
   ]
  },
  {
   "cell_type": "code",
   "execution_count": null,
   "metadata": {},
   "outputs": [],
   "source": [
    "def plot_with_stripes_t_slider(t):\n",
    "    euler_demos.plot_with_stripes(rho_l=3.,u_l=0.,p_l=3.,\n",
    "                                  rho_r=1.,u_r=0.,p_r=1.,\n",
    "                                  gamma=gamma,t=t)\n",
    "    \n",
    "interact(plot_with_stripes_t_slider, \n",
    "         t=widgets.FloatSlider(min=0.,max=1.,step=0.1,value=0.5));"
   ]
  }
 ],
 "metadata": {
  "kernelspec": {
   "display_name": "base",
   "language": "python",
   "name": "python3"
  },
  "language_info": {
   "codemirror_mode": {
    "name": "ipython",
    "version": 3
   },
   "file_extension": ".py",
   "mimetype": "text/x-python",
   "name": "python",
   "nbconvert_exporter": "python",
   "pygments_lexer": "ipython3",
   "version": "3.7.3"
  },
  "orig_nbformat": 4
 },
 "nbformat": 4,
 "nbformat_minor": 2
}
